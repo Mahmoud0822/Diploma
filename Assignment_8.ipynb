{
  "nbformat": 4,
  "nbformat_minor": 0,
  "metadata": {
    "colab": {
      "provenance": []
    },
    "kernelspec": {
      "name": "python3",
      "display_name": "Python 3"
    },
    "language_info": {
      "name": "python"
    }
  },
  "cells": [
    {
      "cell_type": "code",
      "execution_count": 1,
      "metadata": {
        "id": "Ny_3LEPYIdyJ"
      },
      "outputs": [],
      "source": [
        "import pandas as pd\n",
        "from sklearn.model_selection import train_test_split\n",
        "from sklearn.preprocessing import OneHotEncoder, StandardScaler\n",
        "from sklearn.linear_model import LogisticRegression\n",
        "from sklearn.metrics import accuracy_score"
      ]
    },
    {
      "cell_type": "code",
      "source": [
        "data = pd.read_csv(\"/content/Data.csv\")"
      ],
      "metadata": {
        "id": "GF5eZi9lIoRp"
      },
      "execution_count": 2,
      "outputs": []
    },
    {
      "cell_type": "code",
      "source": [
        "print(\"Missing values:\\n\", data.isnull().sum())"
      ],
      "metadata": {
        "colab": {
          "base_uri": "https://localhost:8080/"
        },
        "id": "cP8cBJmrIoc_",
        "outputId": "68111cbe-e6ef-4492-c733-a3843fb5f391"
      },
      "execution_count": 3,
      "outputs": [
        {
          "output_type": "stream",
          "name": "stdout",
          "text": [
            "Missing values:\n",
            " Favorite Color          0\n",
            "Favorite Music Genre    0\n",
            "Favorite Beverage       0\n",
            "Favorite Soft Drink     0\n",
            "Gender                  0\n",
            "dtype: int64\n"
          ]
        }
      ]
    },
    {
      "cell_type": "code",
      "source": [
        "print(\"Favorite Color Distribution:\\n\", data['Favorite Color'].value_counts())\n",
        "print(\"Favorite Music Genre Distribution:\\n\", data['Favorite Music Genre'].value_counts())\n",
        "print(\"Favorite Beverage Distribution:\\n\", data['Favorite Beverage'].value_counts())\n",
        "print(\"Favorite Soft Drink Distribution:\\n\", data['Favorite Soft Drink'].value_counts())"
      ],
      "metadata": {
        "colab": {
          "base_uri": "https://localhost:8080/"
        },
        "id": "XEbQJm9KIoga",
        "outputId": "389b7b5a-15a0-455a-c2b9-7161a582f90c"
      },
      "execution_count": 4,
      "outputs": [
        {
          "output_type": "stream",
          "name": "stdout",
          "text": [
            "Favorite Color Distribution:\n",
            " Favorite Color\n",
            "Cool       37\n",
            "Warm       22\n",
            "Neutral     7\n",
            "Name: count, dtype: int64\n",
            "Favorite Music Genre Distribution:\n",
            " Favorite Music Genre\n",
            "Rock                19\n",
            "Pop                 17\n",
            "Hip hop              8\n",
            "Electronic           8\n",
            "R&B and soul         6\n",
            "Folk/Traditional     4\n",
            "Jazz/Blues           4\n",
            "Name: count, dtype: int64\n",
            "Favorite Beverage Distribution:\n",
            " Favorite Beverage\n",
            "Doesn't drink    14\n",
            "Beer             13\n",
            "Other            11\n",
            "Wine             10\n",
            "Vodka             9\n",
            "Whiskey           9\n",
            "Name: count, dtype: int64\n",
            "Favorite Soft Drink Distribution:\n",
            " Favorite Soft Drink\n",
            "Coca Cola/Pepsi    32\n",
            "Fanta              14\n",
            "7UP/Sprite         13\n",
            "Other               7\n",
            "Name: count, dtype: int64\n"
          ]
        }
      ]
    },
    {
      "cell_type": "code",
      "source": [
        "print(\"Gender Distribution:\\n\", data['Gender'].value_counts())\n",
        "gender_color = data.groupby(['Gender', 'Favorite Color']).size().unstack(fill_value=0)\n",
        "print(\"Gender vs Favorite Color:\\n\", gender_color)\n",
        "gender_music = data.groupby(['Gender', 'Favorite Music Genre']).size().unstack(fill_value=0)\n",
        "print(\"Gender vs Favorite Music Genre:\\n\", gender_music)\n",
        "gender_beverage = data.groupby(['Gender', 'Favorite Beverage']).size().unstack(fill_value=0)\n",
        "print(\"Gender vs Favorite Beverage:\\n\", gender_beverage)\n",
        "gender_softdrink = data.groupby(['Gender', 'Favorite Soft Drink']).size().unstack(fill_value=0)\n",
        "print(\"Gender vs Favorite Soft Drink:\\n\", gender_softdrink)"
      ],
      "metadata": {
        "colab": {
          "base_uri": "https://localhost:8080/"
        },
        "id": "eGR0txG0IomZ",
        "outputId": "a1b8ee54-dde5-4a7c-d90d-f36336776328"
      },
      "execution_count": 5,
      "outputs": [
        {
          "output_type": "stream",
          "name": "stdout",
          "text": [
            "Gender Distribution:\n",
            " Gender\n",
            "F    33\n",
            "M    33\n",
            "Name: count, dtype: int64\n",
            "Gender vs Favorite Color:\n",
            " Favorite Color  Cool  Neutral  Warm\n",
            "Gender                             \n",
            "F                 17        3    13\n",
            "M                 20        4     9\n",
            "Gender vs Favorite Music Genre:\n",
            " Favorite Music Genre  Electronic  Folk/Traditional  Hip hop  Jazz/Blues  Pop  \\\n",
            "Gender                                                                         \n",
            "F                              2                 2        1           3   13   \n",
            "M                              6                 2        7           1    4   \n",
            "\n",
            "Favorite Music Genre  R&B and soul  Rock  \n",
            "Gender                                    \n",
            "F                                2    10  \n",
            "M                                4     9  \n",
            "Gender vs Favorite Beverage:\n",
            " Favorite Beverage  Beer  Doesn't drink  Other  Vodka  Whiskey  Wine\n",
            "Gender                                                             \n",
            "F                     6              5      7      4        5     6\n",
            "M                     7              9      4      5        4     4\n",
            "Gender vs Favorite Soft Drink:\n",
            " Favorite Soft Drink  7UP/Sprite  Coca Cola/Pepsi  Fanta  Other\n",
            "Gender                                                        \n",
            "F                             8               17      6      2\n",
            "M                             5               15      8      5\n"
          ]
        }
      ]
    },
    {
      "cell_type": "code",
      "source": [
        "data_encoded = pd.get_dummies(data, columns=['Favorite Color', 'Favorite Music Genre', 'Favorite Beverage', 'Favorite Soft Drink'])"
      ],
      "metadata": {
        "id": "zQVuGxonIopx"
      },
      "execution_count": 6,
      "outputs": []
    },
    {
      "cell_type": "code",
      "source": [
        "X = data_encoded.drop('Gender', axis=1)\n",
        "y = data_encoded['Gender']\n",
        "X_train, X_test, y_train, y_test = train_test_split(X, y, test_size=0.2, random_state=11)"
      ],
      "metadata": {
        "id": "TbkQ9rvvI2o2"
      },
      "execution_count": 7,
      "outputs": []
    },
    {
      "cell_type": "code",
      "source": [
        "scaler = StandardScaler()\n",
        "X_train_scaled = scaler.fit_transform(X_train)\n",
        "X_test_scaled = scaler.transform(X_test)"
      ],
      "metadata": {
        "id": "eOJfng9yI8JG"
      },
      "execution_count": 8,
      "outputs": []
    },
    {
      "cell_type": "code",
      "source": [
        "model = LogisticRegression(max_iter=1000)\n",
        "model.fit(X_train_scaled, y_train)"
      ],
      "metadata": {
        "colab": {
          "base_uri": "https://localhost:8080/",
          "height": 74
        },
        "id": "8ZuOR23RI-lz",
        "outputId": "af04f0a4-e04e-4324-ad62-0ef44164b77c"
      },
      "execution_count": 9,
      "outputs": [
        {
          "output_type": "execute_result",
          "data": {
            "text/plain": [
              "LogisticRegression(max_iter=1000)"
            ],
            "text/html": [
              "<style>#sk-container-id-1 {color: black;background-color: white;}#sk-container-id-1 pre{padding: 0;}#sk-container-id-1 div.sk-toggleable {background-color: white;}#sk-container-id-1 label.sk-toggleable__label {cursor: pointer;display: block;width: 100%;margin-bottom: 0;padding: 0.3em;box-sizing: border-box;text-align: center;}#sk-container-id-1 label.sk-toggleable__label-arrow:before {content: \"▸\";float: left;margin-right: 0.25em;color: #696969;}#sk-container-id-1 label.sk-toggleable__label-arrow:hover:before {color: black;}#sk-container-id-1 div.sk-estimator:hover label.sk-toggleable__label-arrow:before {color: black;}#sk-container-id-1 div.sk-toggleable__content {max-height: 0;max-width: 0;overflow: hidden;text-align: left;background-color: #f0f8ff;}#sk-container-id-1 div.sk-toggleable__content pre {margin: 0.2em;color: black;border-radius: 0.25em;background-color: #f0f8ff;}#sk-container-id-1 input.sk-toggleable__control:checked~div.sk-toggleable__content {max-height: 200px;max-width: 100%;overflow: auto;}#sk-container-id-1 input.sk-toggleable__control:checked~label.sk-toggleable__label-arrow:before {content: \"▾\";}#sk-container-id-1 div.sk-estimator input.sk-toggleable__control:checked~label.sk-toggleable__label {background-color: #d4ebff;}#sk-container-id-1 div.sk-label input.sk-toggleable__control:checked~label.sk-toggleable__label {background-color: #d4ebff;}#sk-container-id-1 input.sk-hidden--visually {border: 0;clip: rect(1px 1px 1px 1px);clip: rect(1px, 1px, 1px, 1px);height: 1px;margin: -1px;overflow: hidden;padding: 0;position: absolute;width: 1px;}#sk-container-id-1 div.sk-estimator {font-family: monospace;background-color: #f0f8ff;border: 1px dotted black;border-radius: 0.25em;box-sizing: border-box;margin-bottom: 0.5em;}#sk-container-id-1 div.sk-estimator:hover {background-color: #d4ebff;}#sk-container-id-1 div.sk-parallel-item::after {content: \"\";width: 100%;border-bottom: 1px solid gray;flex-grow: 1;}#sk-container-id-1 div.sk-label:hover label.sk-toggleable__label {background-color: #d4ebff;}#sk-container-id-1 div.sk-serial::before {content: \"\";position: absolute;border-left: 1px solid gray;box-sizing: border-box;top: 0;bottom: 0;left: 50%;z-index: 0;}#sk-container-id-1 div.sk-serial {display: flex;flex-direction: column;align-items: center;background-color: white;padding-right: 0.2em;padding-left: 0.2em;position: relative;}#sk-container-id-1 div.sk-item {position: relative;z-index: 1;}#sk-container-id-1 div.sk-parallel {display: flex;align-items: stretch;justify-content: center;background-color: white;position: relative;}#sk-container-id-1 div.sk-item::before, #sk-container-id-1 div.sk-parallel-item::before {content: \"\";position: absolute;border-left: 1px solid gray;box-sizing: border-box;top: 0;bottom: 0;left: 50%;z-index: -1;}#sk-container-id-1 div.sk-parallel-item {display: flex;flex-direction: column;z-index: 1;position: relative;background-color: white;}#sk-container-id-1 div.sk-parallel-item:first-child::after {align-self: flex-end;width: 50%;}#sk-container-id-1 div.sk-parallel-item:last-child::after {align-self: flex-start;width: 50%;}#sk-container-id-1 div.sk-parallel-item:only-child::after {width: 0;}#sk-container-id-1 div.sk-dashed-wrapped {border: 1px dashed gray;margin: 0 0.4em 0.5em 0.4em;box-sizing: border-box;padding-bottom: 0.4em;background-color: white;}#sk-container-id-1 div.sk-label label {font-family: monospace;font-weight: bold;display: inline-block;line-height: 1.2em;}#sk-container-id-1 div.sk-label-container {text-align: center;}#sk-container-id-1 div.sk-container {/* jupyter's `normalize.less` sets `[hidden] { display: none; }` but bootstrap.min.css set `[hidden] { display: none !important; }` so we also need the `!important` here to be able to override the default hidden behavior on the sphinx rendered scikit-learn.org. See: https://github.com/scikit-learn/scikit-learn/issues/21755 */display: inline-block !important;position: relative;}#sk-container-id-1 div.sk-text-repr-fallback {display: none;}</style><div id=\"sk-container-id-1\" class=\"sk-top-container\"><div class=\"sk-text-repr-fallback\"><pre>LogisticRegression(max_iter=1000)</pre><b>In a Jupyter environment, please rerun this cell to show the HTML representation or trust the notebook. <br />On GitHub, the HTML representation is unable to render, please try loading this page with nbviewer.org.</b></div><div class=\"sk-container\" hidden><div class=\"sk-item\"><div class=\"sk-estimator sk-toggleable\"><input class=\"sk-toggleable__control sk-hidden--visually\" id=\"sk-estimator-id-1\" type=\"checkbox\" checked><label for=\"sk-estimator-id-1\" class=\"sk-toggleable__label sk-toggleable__label-arrow\">LogisticRegression</label><div class=\"sk-toggleable__content\"><pre>LogisticRegression(max_iter=1000)</pre></div></div></div></div></div>"
            ]
          },
          "metadata": {},
          "execution_count": 9
        }
      ]
    },
    {
      "cell_type": "code",
      "source": [
        "y_pred = model.predict(X_test_scaled)"
      ],
      "metadata": {
        "id": "Bq7DNszkI-pO"
      },
      "execution_count": 10,
      "outputs": []
    },
    {
      "cell_type": "code",
      "source": [
        "accuracy = accuracy_score(y_test, y_pred)\n",
        "print(\"Accuracy of the logistic regression model:\", accuracy)"
      ],
      "metadata": {
        "colab": {
          "base_uri": "https://localhost:8080/"
        },
        "id": "b8xxYaOJJDCe",
        "outputId": "f37dc746-4286-423b-faf9-39be5a7109d7"
      },
      "execution_count": 11,
      "outputs": [
        {
          "output_type": "stream",
          "name": "stdout",
          "text": [
            "Accuracy of the logistic regression model: 0.5\n"
          ]
        }
      ]
    }
  ]
}