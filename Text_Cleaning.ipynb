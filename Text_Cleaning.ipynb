{
  "nbformat": 4,
  "nbformat_minor": 0,
  "metadata": {
    "colab": {
      "provenance": []
    },
    "kernelspec": {
      "name": "python3",
      "display_name": "Python 3"
    },
    "language_info": {
      "name": "python"
    }
  },
  "cells": [
    {
      "cell_type": "code",
      "execution_count": 2,
      "metadata": {
        "id": "EmA86CyYvxGW"
      },
      "outputs": [],
      "source": [
        "import pandas as pd\n",
        "\n",
        "# Sample dataset\n",
        "data = {\n",
        "    \"text\": [\n",
        "        \"How is the weather today?\",\n",
        "        \"¿Qué tiempo hace hoy?\",\n",
        "        \"What's the weather like?\",\n",
        "        \"The weather is nice today.\",\n",
        "        \"¿Cómo está el clima hoy?\",\n",
        "        \"It's raining today.\"\n",
        "    ]\n",
        "}\n",
        "\n",
        "df = pd.DataFrame(data)"
      ]
    },
    {
      "cell_type": "code",
      "source": [
        "import re\n",
        "\n",
        "# Function to clean text\n",
        "def clean_text(text):\n",
        "    # Remove special characters and numbers\n",
        "    text = re.sub(r'[^A-Za-zÀ-ÿ\\s]', '', text)\n",
        "    # Convert to lowercase\n",
        "    text = text.lower()\n",
        "    return text\n",
        "\n",
        "# Apply the cleaning function\n",
        "df['cleaned_text'] = df['text'].apply(clean_text)\n",
        "print(df[['text', 'cleaned_text']])"
      ],
      "metadata": {
        "colab": {
          "base_uri": "https://localhost:8080/"
        },
        "id": "0aEuKqlkv2FF",
        "outputId": "25950d02-a6cc-4710-c823-0b94c0ee0063"
      },
      "execution_count": 3,
      "outputs": [
        {
          "output_type": "stream",
          "name": "stdout",
          "text": [
            "                         text               cleaned_text\n",
            "0   How is the weather today?   how is the weather today\n",
            "1       ¿Qué tiempo hace hoy?        qué tiempo hace hoy\n",
            "2    What's the weather like?     whats the weather like\n",
            "3  The weather is nice today.  the weather is nice today\n",
            "4    ¿Cómo está el clima hoy?     cómo está el clima hoy\n",
            "5         It's raining today.          its raining today\n"
          ]
        }
      ]
    },
    {
      "cell_type": "code",
      "source": [
        "from transformers import AutoTokenizer, AutoModel\n",
        "import torch\n",
        "\n",
        "# Load model and tokenizer\n",
        "tokenizer = AutoTokenizer.from_pretrained('jinaai/jina-embeddings-v2-base-es', trust_remote_code=True)\n",
        "model = AutoModel.from_pretrained('jinaai/jina-embeddings-v2-base-es', trust_remote_code=True)\n",
        "\n",
        "# Tokenize and encode the cleaned text\n",
        "inputs = tokenizer(df['cleaned_text'].tolist(), return_tensors=\"pt\", padding=True, truncation=True)\n",
        "\n",
        "# Obtain embeddings\n",
        "with torch.no_grad():\n",
        "    outputs = model(**inputs)\n",
        "    # Taking the mean of token embeddings to get sentence-level embeddings\n",
        "    df['embeddings'] = outputs.last_hidden_state.mean(dim=1).numpy().tolist()\n",
        "\n",
        "print(df[['cleaned_text', 'embeddings']])"
      ],
      "metadata": {
        "colab": {
          "base_uri": "https://localhost:8080/"
        },
        "id": "wN9fSgVdwjTH",
        "outputId": "ebf61cda-2d15-47e3-ae9e-84a38219ffca"
      },
      "execution_count": 4,
      "outputs": [
        {
          "output_type": "stream",
          "name": "stdout",
          "text": [
            "                cleaned_text  \\\n",
            "0   how is the weather today   \n",
            "1        qué tiempo hace hoy   \n",
            "2     whats the weather like   \n",
            "3  the weather is nice today   \n",
            "4     cómo está el clima hoy   \n",
            "5          its raining today   \n",
            "\n",
            "                                          embeddings  \n",
            "0  [0.11146073043346405, -0.11799396574497223, 0....  \n",
            "1  [0.04967658966779709, -0.15929220616817474, 0....  \n",
            "2  [0.043915051966905594, 0.037842195481061935, -...  \n",
            "3  [0.09060945361852646, -0.19453072547912598, 0....  \n",
            "4  [0.11705266684293747, -0.09279539436101913, 0....  \n",
            "5  [0.07673726230859756, -0.1369733363389969, 0.3...  \n"
          ]
        }
      ]
    },
    {
      "cell_type": "code",
      "source": [
        "from numpy.linalg import norm\n",
        "import numpy as np\n",
        "\n",
        "# Cosine similarity function\n",
        "def cos_sim(a, b):\n",
        "    return (np.dot(a, b)) / (norm(a) * norm(b))\n",
        "\n",
        "# Calculate similarity between the first two samples\n",
        "similarity = cos_sim(np.array(df['embeddings'][0]), np.array(df['embeddings'][1]))\n",
        "print(f\"Cosine Similarity between first two samples: {similarity:.4f}\")"
      ],
      "metadata": {
        "colab": {
          "base_uri": "https://localhost:8080/"
        },
        "id": "RVemd-fXwmaj",
        "outputId": "64b8dd0b-5e1f-4a34-c075-2bdd49b58734"
      },
      "execution_count": 5,
      "outputs": [
        {
          "output_type": "stream",
          "name": "stdout",
          "text": [
            "Cosine Similarity between first two samples: 0.8673\n"
          ]
        }
      ]
    }
  ]
}